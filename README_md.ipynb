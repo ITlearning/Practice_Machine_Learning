{
  "nbformat": 4,
  "nbformat_minor": 0,
  "metadata": {
    "colab": {
      "name": "README.md",
      "provenance": [],
      "collapsed_sections": [],
      "authorship_tag": "ABX9TyNsYI5DfLoqhLja8wPihw/5"
    },
    "kernelspec": {
      "name": "python3",
      "display_name": "Python 3"
    },
    "language_info": {
      "name": "python"
    }
  },
  "cells": [
    {
      "cell_type": "markdown",
      "metadata": {
        "id": "87gMDqNnvjqN"
      },
      "source": [
        "# Practice_Machine_Learning\n",
        "사지방에서 공부하는 머신러닝 + 딥러닝\n",
        "\n",
        "\n",
        "* * *\n",
        "### 사용하는 교재\n",
        " <p align=\"center\"><img width=\"30%\" src=\"https://user-images.githubusercontent.com/11778058/112754597-bd545400-9017-11eb-8d04-8fbe2d83b5b7.jpg\" /></p>\n",
        "\n",
        " <p align=\"center\"> \n",
        " 혼자 공부하는 머신러닝 + 딥러닝 박해선 지음\n",
        "</p>\n",
        "\n",
        "* * *\n",
        "\n",
        "#### 진행도\n",
        "\n",
        "##### Chapter 01\n",
        "2021.03.29 64 Page. 도미와 빙어 판별 머신러닝 프로그램 테스트\n",
        "\n",
        "##### Chapter 02\n",
        "2021.03.30 "
      ]
    }
  ]
}