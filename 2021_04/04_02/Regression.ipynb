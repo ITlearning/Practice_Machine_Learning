{
  "nbformat": 4,
  "nbformat_minor": 0,
  "metadata": {
    "colab": {
      "name": "Regression",
      "provenance": [],
      "collapsed_sections": [],
      "authorship_tag": "ABX9TyNOBGBL011uBK4DTADt6i8B"
    },
    "kernelspec": {
      "name": "python3",
      "display_name": "Python 3"
    },
    "language_info": {
      "name": "python"
    }
  },
  "cells": [
    {
      "cell_type": "code",
      "metadata": {
        "colab": {
          "base_uri": "https://localhost:8080/",
          "height": 701
        },
        "id": "mM6cVyWutOcp",
        "outputId": "4030b7e7-a013-44f6-fb4c-fe652eb9ca9d"
      },
      "source": [
        "# k-최근접 이웃 회귀 \n",
        "\n",
        "# 데이터 준비\n",
        "\n",
        "import numpy as np\n",
        "perch_length = np.array([8.4, 13.7, 15.0, 16.2, 17.4, 18.0, 18.7, 19.0, 19.6, 20.0, 21.0,\n",
        "       21.0, 21.0, 21.3, 22.0, 22.0, 22.0, 22.0, 22.0, 22.5, 22.5, 22.7,\n",
        "       23.0, 23.5, 24.0, 24.0, 24.6, 25.0, 25.6, 26.5, 27.3, 27.5, 27.5,\n",
        "       27.5, 28.0, 28.7, 30.0, 32.8, 34.5, 35.0, 36.5, 36.0, 37.0, 37.0,\n",
        "       39.0, 39.0, 39.0, 40.0, 40.0, 40.0, 40.0, 42.0, 43.0, 43.0, 43.5,\n",
        "       44.0])\n",
        "perch_weight = np.array([5.9, 32.0, 40.0, 51.5, 70.0, 100.0, 78.0, 80.0, 85.0, 85.0, 110.0,\n",
        "       115.0, 125.0, 130.0, 120.0, 120.0, 130.0, 135.0, 110.0, 130.0,\n",
        "       150.0, 145.0, 150.0, 170.0, 225.0, 145.0, 188.0, 180.0, 197.0,\n",
        "       218.0, 300.0, 260.0, 265.0, 250.0, 250.0, 300.0, 320.0, 514.0,\n",
        "       556.0, 840.0, 685.0, 700.0, 700.0, 690.0, 900.0, 650.0, 820.0,\n",
        "       850.0, 900.0, 1015.0, 820.0, 1100.0, 1000.0, 1100.0, 1000.0,\n",
        "       1000.0])\n",
        "\n",
        "import matplotlib.pyplot as plt\n",
        "plt.scatter(perch_length, perch_weight)\n",
        "plt.xlabel('length')\n",
        "plt.ylabel('weight')\n",
        "plt.show()\n",
        "\n",
        "# 훈련 세트와 테스트 세트로 나누기\n",
        "from sklearn.model_selection import train_test_split\n",
        "train_input, test_input, train_target, test_target = train_test_split(perch_length, perch_weight, random_state=42)\n",
        "\n",
        "# 배열 크기 바꾸기\n",
        "test_array = np.array([1,2,3,4])\n",
        "print(test_array.shape)\n",
        "test_array = test_array.reshape(2,2) # reshape() 함수로 배열의 크기를 바꿀 수 있다. 한번에 n차원 배열로 변경이 가능하다는 소리다.\n",
        "print(test_array.shape)\n",
        "\n",
        "# 실사용 배열 크기 변경하기\n",
        "train_input = train_input.reshape(-1,1) # 크기에 -1을 지정하면 나머지 원소 개수로 모두 채우라는 의미이다.\n",
        "test_input = test_input.reshape(-1,1)\n",
        "print(train_input.shape, test_input.shape)\n",
        "\n",
        "# 결정계수(R^2)\n",
        "\n",
        "from sklearn.neighbors import KNeighborsRegressor # k-최근접 이웃 회귀 알고리즘\n",
        "knr = KNeighborsRegressor()\n",
        "# k-최근접 이웃 회귀 모델을 훈련합니다.\n",
        "knr.fit(train_input, train_target)\n",
        "\n",
        "print(\"테스트 세트 :\", knr.score(test_input, test_target)) # 회귀에서는 정확한 숫자를 맞힌다는 것은 거의 불가능 하다. 예측하는 값이나 타깃 모두 임의의 수치이기 때문이다.\n",
        "\n",
        "\n",
        "from sklearn.metrics import mean_absolute_error # 타깃과 예측의 절댓값 오차를 평균하여 변환\n",
        "\n",
        "# 테스트 세트에 대한 예측을 만든다.\n",
        "test_prediction = knr.predict(test_input)\n",
        "\n",
        "# 테스트 세트에 대한 평균 절댓값 오차를 계산\n",
        "mae = mean_absolute_error(test_target, test_prediction)\n",
        "print(mae)\n",
        "\n",
        "# 과대적합 vs 과소적합\n",
        "\n",
        "print(\"훈련 세트 :\",knr.score(train_input, train_target))\n",
        "\n",
        "knr.n_neighbors = 3\n",
        "\n",
        "# 모델을 다시 훈련시킵니다.\n",
        "knr.fit(train_input, train_target)\n",
        "print(knr.score(train_input, train_target))\n",
        "\n",
        "print(knr.score(test_input, test_target))\n",
        "\n",
        "knr = KNeighborsRegressor()\n",
        "x = np.arange(5,45).reshape(-1,1)\n",
        "\n",
        "# n = 1,5,10일 때 예측 결과를 그래프로 그립니다\n",
        "for n in [1,5,10]:\n",
        "  knr.n_neighbors = n\n",
        "  knr.fit(train_input, train_target)\n",
        "  # 지정한 범위 x에 대한 예측을 구합니다.\n",
        "  prediction = knr.predict(x)\n",
        "\n",
        "plt.scatter(train_input, train_target)\n",
        "plt.plot(x, prediction)\n",
        "plt.title('n_neighbors = {}'.format(n))\n",
        "plt.xlabel('length')\n",
        "plt.ylabel('weight')\n",
        "plt.show()"
      ],
      "execution_count": 14,
      "outputs": [
        {
          "output_type": "display_data",
          "data": {
            "image/png": "[encoded data removed]",
            "text/plain": [
              "<Figure size 432x288 with 1 Axes>"
            ]
          },
          "metadata": {
            "tags": [],
            "needs_background": "light"
          }
        },
        {
          "output_type": "stream",
          "text": [
            "(4,)\n",
            "(2, 2)\n",
            "(42, 1) (14, 1)\n",
            "테스트 세트 : 0.9928094061010639\n",
            "19.157142857142862\n",
            "훈련 세트 : 0.9698823289099255\n",
            "0.9804899950518966\n",
            "0.974645996398761\n"
          ],
          "name": "stdout"
        },
        {
          "output_type": "display_data",
          "data": {
            "image/png": "[encoded data removed]",
            "text/plain": [
              "<Figure size 432x288 with 1 Axes>"
            ]
          },
          "metadata": {
            "tags": [],
            "needs_background": "light"
          }
        }
      ]
    }
  ]
}